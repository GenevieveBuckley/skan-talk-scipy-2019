{
 "cells": [
  {
   "cell_type": "markdown",
   "metadata": {},
   "source": [
    "## What is a JIT?"
   ]
  },
  {
   "cell_type": "code",
   "execution_count": null,
   "metadata": {},
   "outputs": [],
   "source": [
    "def add(a, b):\n",
    "    return a + b"
   ]
  },
  {
   "cell_type": "code",
   "execution_count": null,
   "metadata": {},
   "outputs": [],
   "source": [
    "class Banana:\n",
    "    def __init__(self, num=1):\n",
    "        self.num = num\n",
    "        \n",
    "    def __add__(self, other):\n",
    "        if type(other) == Banana:\n",
    "            return Banana(self.num + other.num)\n",
    "        else:\n",
    "            return FruitSalad([self, other])\n",
    "\n",
    "\n",
    "class Apple:\n",
    "    def __init__(self, num=1):\n",
    "        self.num = num\n",
    "        \n",
    "    def __add__(self, other):\n",
    "        if type(other) == Apple:\n",
    "            return Apple(self.num + other.num)\n",
    "        else:\n",
    "            return FruitSalad([self, other])\n",
    "\n",
    "        \n",
    "class FruitSalad:\n",
    "    def __init__(self, fruits):\n",
    "        self.fruits = fruits"
   ]
  },
  {
   "cell_type": "code",
   "execution_count": null,
   "metadata": {},
   "outputs": [],
   "source": [
    "add(Apple(), Banana())"
   ]
  },
  {
   "cell_type": "markdown",
   "metadata": {},
   "source": [
    "## Whiteboard: Sauvola thresholding"
   ]
  },
  {
   "cell_type": "markdown",
   "metadata": {},
   "source": [
    "## Timing various bits of the inner loop"
   ]
  },
  {
   "cell_type": "code",
   "execution_count": null,
   "metadata": {},
   "outputs": [],
   "source": [
    "import itertools\n",
    "import numpy as np\n",
    "from scipy import ndimage as ndi\n",
    "from skimage.transform import integral_image\n",
    "from skimage import util\n",
    "from skimage.util import dtype_limits\n",
    "import numba\n",
    "\n",
    "\n",
    "@numba.jit(nopython=True, nogil=True, fastmath=True)\n",
    "def _correlate_sparse_loop(input, indices, offsets,\n",
    "                           values, output):\n",
    "    for i, j in enumerate(indices):\n",
    "        for off, val in zip(offsets, values):\n",
    "            output[i] += input[j + off] * val\n",
    "\n",
    "\n",
    "def correlate_sparse(image, kernel):\n",
    "    indices = np.nonzero(kernel)\n",
    "    offsets = np.ravel_multi_index(indices, image.shape)\n",
    "    values = kernel[indices].astype(image.dtype)\n",
    "    result = np.zeros([a - b + 1\n",
    "                       for a, b in zip(image.shape, kernel.shape)],\n",
    "                      dtype=image.dtype)\n",
    "    corner_multi_indices = np.meshgrid(*[np.arange(i)\n",
    "                                         for i in result.shape],\n",
    "                                       indexing='ij',\n",
    "                                       sparse=True)\n",
    "    corner_indices = np.ravel_multi_index(corner_multi_indices,\n",
    "                                          image.shape).ravel()\n",
    "    _correlate_sparse_loop(\n",
    "        image.ravel(), corner_indices, offsets, values,\n",
    "        result.ravel()\n",
    "    )\n",
    "    return result"
   ]
  },
  {
   "cell_type": "code",
   "execution_count": null,
   "metadata": {},
   "outputs": [],
   "source": [
    "image = np.random.random((4000, 6000))\n",
    "w = 301\n",
    "kern = np.zeros((w + 1,) * image.ndim)\n",
    "for indices in itertools.product(*([[0, -1]] * image.ndim)):\n",
    "    kern[indices] = (-1) ** (image.ndim % 2 != np.sum(indices) % 2)"
   ]
  },
  {
   "cell_type": "code",
   "execution_count": null,
   "metadata": {},
   "outputs": [],
   "source": [
    "indices = np.nonzero(kern)\n",
    "offsets = np.ravel_multi_index(indices, image.shape)\n",
    "values = kern[indices].astype(image.dtype)\n",
    "result = np.zeros([a - b + 1\n",
    "                   for a, b in zip(image.shape, kern.shape)],\n",
    "                  dtype=image.dtype)\n",
    "corner_multi_indices = np.meshgrid(*[np.arange(i)\n",
    "                                     for i in result.shape],\n",
    "                                   indexing='ij',\n",
    "                                   sparse=True)\n",
    "corner_indices = np.ravel_multi_index(corner_multi_indices,\n",
    "                                      image.shape).ravel()"
   ]
  },
  {
   "cell_type": "code",
   "execution_count": null,
   "metadata": {},
   "outputs": [],
   "source": [
    "# warmup jit\n",
    "_correlate_sparse_loop(\n",
    "    image.ravel(), corner_indices, offsets, values,\n",
    "    result.ravel()\n",
    ")"
   ]
  },
  {
   "cell_type": "code",
   "execution_count": null,
   "metadata": {},
   "outputs": [],
   "source": [
    "%%timeit -n 5 -r 5 -o\n",
    "_correlate_sparse_loop(\n",
    "    image.ravel(), corner_indices, offsets, values,\n",
    "    result.ravel()\n",
    ")"
   ]
  },
  {
   "cell_type": "code",
   "execution_count": 6,
   "metadata": {},
   "outputs": [
    {
     "name": "stdout",
     "output_type": "stream",
     "text": [
      "1min 20s ± 0 ns per loop (mean ± std. dev. of 1 run, 1 loop each)\n"
     ]
    },
    {
     "data": {
      "text/plain": [
       "<TimeitResult : 1min 20s ± 0 ns per loop (mean ± std. dev. of 1 run, 1 loop each)>"
      ]
     },
     "execution_count": 6,
     "metadata": {},
     "output_type": "execute_result"
    }
   ],
   "source": [
    "%%timeit -n 1 -r 1 -o\n",
    "_correlate_sparse_loop.py_func(\n",
    "    image.ravel(), corner_indices, offsets, values,\n",
    "    result.ravel()\n",
    ")"
   ]
  },
  {
   "cell_type": "code",
   "execution_count": null,
   "metadata": {},
   "outputs": [],
   "source": [
    "len(corner_indices), len(offsets)"
   ]
  },
  {
   "cell_type": "code",
   "execution_count": null,
   "metadata": {},
   "outputs": [],
   "source": [
    "max(offsets)"
   ]
  },
  {
   "cell_type": "code",
   "execution_count": null,
   "metadata": {},
   "outputs": [],
   "source": [
    "# M elems per second (Numba):\n",
    "time = 0.540\n",
    "len(corner_indices) * len(offsets) / time / 1e6"
   ]
  },
  {
   "cell_type": "code",
   "execution_count": null,
   "metadata": {},
   "outputs": [],
   "source": [
    "# M elems per second (Python):\n",
    "time = 75\n",
    "len(corner_indices) * len(offsets) / time / 1e6"
   ]
  },
  {
   "cell_type": "code",
   "execution_count": null,
   "metadata": {},
   "outputs": [],
   "source": [
    "@numba.jit(nopython=True, nogil=True, fastmath=True)\n",
    "def _correlate_sparse_offsets(input, indices, offsets, values, output):\n",
    "    for off, val in zip(offsets, values):\n",
    "        # this loop order optimises cache access, gives up to 10x speedup\n",
    "        for i, j in enumerate(indices):\n",
    "            output[i] += input[j + off] * val "
   ]
  },
  {
   "cell_type": "code",
   "execution_count": null,
   "metadata": {},
   "outputs": [],
   "source": [
    "# warmup jit\n",
    "_correlate_sparse_offsets(\n",
    "    image.ravel(), corner_indices, offsets, values,\n",
    "    result.ravel()\n",
    ")"
   ]
  },
  {
   "cell_type": "code",
   "execution_count": null,
   "metadata": {},
   "outputs": [],
   "source": [
    "%%timeit -n 5 -r 5\n",
    "_correlate_sparse_offsets(\n",
    "    image.ravel(), corner_indices, offsets, values,\n",
    "    result.ravel()\n",
    ")"
   ]
  },
  {
   "cell_type": "code",
   "execution_count": null,
   "metadata": {},
   "outputs": [],
   "source": [
    "# M elems per second:\n",
    "time = 0.132\n",
    "len(corner_indices) * len(offsets) / time / 1e6"
   ]
  },
  {
   "cell_type": "code",
   "execution_count": null,
   "metadata": {},
   "outputs": [],
   "source": [
    "def print_lines(substring, string):\n",
    "    lines = string.split('\\n')\n",
    "    for line in lines:\n",
    "        if substring in line:\n",
    "            print(line)"
   ]
  },
  {
   "cell_type": "code",
   "execution_count": null,
   "metadata": {
    "scrolled": false
   },
   "outputs": [],
   "source": [
    "asm = list(_correlate_sparse_offsets.inspect_asm().values())[0]\n",
    "print('single instructions:', asm.count('sd'))\n",
    "print('packed instructions:', asm.count('pd'))\n",
    "print_lines('sd', asm)"
   ]
  },
  {
   "cell_type": "code",
   "execution_count": null,
   "metadata": {},
   "outputs": [],
   "source": [
    "@numba.jit(nopython=True, nogil=True, fastmath=True)\n",
    "def _correlate_no_indirection(input, indices, offsets, values, output):\n",
    "    for off, val in zip(offsets, values):\n",
    "        for i in range(len(indices)):\n",
    "            output[i] += input[i + off] * val\n"
   ]
  },
  {
   "cell_type": "code",
   "execution_count": null,
   "metadata": {},
   "outputs": [],
   "source": [
    "# warmup jit\n",
    "_correlate_no_indirection(\n",
    "    image.ravel(), corner_indices, offsets, values,\n",
    "    result.ravel()\n",
    ")"
   ]
  },
  {
   "cell_type": "code",
   "execution_count": null,
   "metadata": {},
   "outputs": [],
   "source": [
    "%%timeit -n 5 -r 5\n",
    "_correlate_no_indirection(\n",
    "    image.ravel(), corner_indices, offsets, values,\n",
    "    result.ravel()\n",
    ")"
   ]
  },
  {
   "cell_type": "code",
   "execution_count": null,
   "metadata": {},
   "outputs": [],
   "source": [
    "# M elems per second:\n",
    "time = 0.094\n",
    "len(corner_indices) * len(offsets) / time / 1e6"
   ]
  },
  {
   "cell_type": "code",
   "execution_count": null,
   "metadata": {
    "scrolled": false
   },
   "outputs": [],
   "source": [
    "asm = list(_correlate_no_indirection.inspect_asm().values())[0]\n",
    "print('single instructions:', asm.count('sd'))\n",
    "print('packed instructions:', asm.count('pd'))\n",
    "print_lines('pd', asm)"
   ]
  },
  {
   "cell_type": "code",
   "execution_count": null,
   "metadata": {},
   "outputs": [],
   "source": [
    "@numba.jit(nopython=True, nogil=True, fastmath=True)\n",
    "def _correlate_no_indir_offset(input, indices, offsets, values, output):\n",
    "    for off, val in zip(offsets, values):\n",
    "        for i in range(len(indices)):\n",
    "            output[i] += input[i] * val\n"
   ]
  },
  {
   "cell_type": "code",
   "execution_count": null,
   "metadata": {},
   "outputs": [],
   "source": [
    "# warmup jit\n",
    "_correlate_no_indir_offset(\n",
    "    image.ravel(), corner_indices, offsets, values,\n",
    "    result.ravel()\n",
    ")"
   ]
  },
  {
   "cell_type": "code",
   "execution_count": null,
   "metadata": {},
   "outputs": [],
   "source": [
    "%%timeit -n 5 -r 5\n",
    "_correlate_no_indir_offset(\n",
    "    image.ravel(), corner_indices, offsets, values,\n",
    "    result.ravel()\n",
    ")"
   ]
  },
  {
   "cell_type": "code",
   "execution_count": null,
   "metadata": {
    "scrolled": false
   },
   "outputs": [],
   "source": [
    "asm = list(_correlate_no_indir_offset.inspect_asm().values())[0]\n",
    "print('single instructions:', asm.count('sd'))\n",
    "print('packed instructions:', asm.count('pd'))\n",
    "print_lines('pd', asm)"
   ]
  },
  {
   "cell_type": "code",
   "execution_count": null,
   "metadata": {},
   "outputs": [],
   "source": [
    "image32 = image.astype(np.float32)\n",
    "result32 = result.astype(np.float32)\n",
    "values32 = values.astype(np.float32)"
   ]
  },
  {
   "cell_type": "code",
   "execution_count": null,
   "metadata": {},
   "outputs": [],
   "source": [
    "# warmup jit\n",
    "_correlate_sparse_offsets(\n",
    "    image32.ravel(), corner_indices, offsets, values32,\n",
    "    result32.ravel()\n",
    ")"
   ]
  },
  {
   "cell_type": "code",
   "execution_count": null,
   "metadata": {},
   "outputs": [],
   "source": [
    "%%timeit -n 5 -r 5\n",
    "_correlate_sparse_offsets(\n",
    "    image32.ravel(), corner_indices, offsets, values32,\n",
    "    result32.ravel()\n",
    ")"
   ]
  },
  {
   "cell_type": "code",
   "execution_count": null,
   "metadata": {},
   "outputs": [],
   "source": [
    "%%timeit -n 5 -r 5\n",
    "_correlate_no_indir_offset(\n",
    "    image32.ravel(), corner_indices, offsets, values32,\n",
    "    result32.ravel()\n",
    ")"
   ]
  },
  {
   "cell_type": "code",
   "execution_count": null,
   "metadata": {},
   "outputs": [],
   "source": [
    "# M elems per second:\n",
    "time = 0.049\n",
    "len(corner_indices) * len(offsets) / time / 1e6"
   ]
  },
  {
   "cell_type": "code",
   "execution_count": null,
   "metadata": {
    "scrolled": false
   },
   "outputs": [],
   "source": [
    "asm = list(_correlate_no_indir_offset.inspect_asm().values())[1]\n",
    "print('single instructions:', asm.count('ss'))\n",
    "print('packed instructions:', asm.count('ps'))\n",
    "print_lines('ps', asm)"
   ]
  }
 ],
 "metadata": {
  "kernelspec": {
   "display_name": "Python 3",
   "language": "python",
   "name": "python3"
  },
  "language_info": {
   "codemirror_mode": {
    "name": "ipython",
    "version": 3
   },
   "file_extension": ".py",
   "mimetype": "text/x-python",
   "name": "python",
   "nbconvert_exporter": "python",
   "pygments_lexer": "ipython3",
   "version": "3.6.8"
  }
 },
 "nbformat": 4,
 "nbformat_minor": 2
}
