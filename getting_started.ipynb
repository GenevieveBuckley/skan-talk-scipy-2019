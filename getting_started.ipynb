{
 "cells": [
  {
   "cell_type": "markdown",
   "metadata": {},
   "source": [
    "# Skeleton analysis with Skan\n",
    "\n",
    "## extracting a skeleton from an image"
   ]
  },
  {
   "cell_type": "code",
   "execution_count": null,
   "metadata": {},
   "outputs": [],
   "source": [
    "from glob import glob\n",
    "import imageio as iio\n",
    "\n",
    "files = glob('data/*.tif')\n",
    "image0 = iio.imread(files[0], format='fei')"
   ]
  },
  {
   "cell_type": "markdown",
   "metadata": {},
   "source": [
    "We display the images with [Matplotlib](http://matplotlib.org)."
   ]
  },
  {
   "cell_type": "code",
   "execution_count": null,
   "metadata": {},
   "outputs": [],
   "source": [
    "import matplotlib.pyplot as plt\n",
    "\n",
    "%matplotlib notebook\n",
    "\n",
    "fig, ax = plt.subplots()\n",
    "ax.imshow(image0, cmap='gray');"
   ]
  },
  {
   "cell_type": "markdown",
   "metadata": {},
   "source": [
    "As an aside, we can extract the pixel spacing in meters from the `.meta` attribute of the ImageIO image:"
   ]
  },
  {
   "cell_type": "code",
   "execution_count": null,
   "metadata": {},
   "outputs": [],
   "source": [
    "import numpy as np\n",
    "\n",
    "spacing = image0.meta['Scan']['PixelHeight']\n",
    "spacing_nm = spacing * 1e9  # nm per pixel\n",
    "dim_nm = np.array(image0.shape) / spacing_nm\n",
    "\n",
    "fig, ax = plt.subplots()\n",
    "ax.imshow(image0, cmap='gray',\n",
    "          extent=[0, dim_nm[1], dim_nm[0], 0]);\n",
    "ax.set_xlabel('x (nm)')\n",
    "ax.set_ylabel('y (nm)');"
   ]
  },
  {
   "cell_type": "code",
   "execution_count": null,
   "metadata": {},
   "outputs": [],
   "source": [
    "from skan.pre import threshold\n",
    "\n",
    "smooth_radius = 5 / spacing_nm  # float OK\n",
    "threshold_radius = int(np.ceil(50 / spacing_nm))\n",
    "binary0 = threshold(image0, sigma=smooth_radius,\n",
    "                    radius=threshold_radius)\n",
    "\n",
    "fig, ax = plt.subplots()\n",
    "ax.imshow(binary0);"
   ]
  },
  {
   "cell_type": "code",
   "execution_count": null,
   "metadata": {},
   "outputs": [],
   "source": [
    "from skimage import morphology\n",
    "\n",
    "skeleton0 = morphology.skeletonize(binary0)"
   ]
  },
  {
   "cell_type": "code",
   "execution_count": null,
   "metadata": {},
   "outputs": [],
   "source": [
    "from skan import draw\n",
    "\n",
    "fig, ax = plt.subplots()\n",
    "draw.overlay_skeleton_2d(image0, skeleton0, dilate=1, axes=ax);"
   ]
  },
  {
   "cell_type": "markdown",
   "metadata": {},
   "source": [
    "## measuring skeleton branches"
   ]
  },
  {
   "cell_type": "code",
   "execution_count": null,
   "metadata": {},
   "outputs": [],
   "source": [
    "from skan import skeleton_to_csgraph\n",
    "\n",
    "pixel_graph, coordinates, degrees = skeleton_to_csgraph(skeleton0)"
   ]
  },
  {
   "cell_type": "markdown",
   "metadata": {},
   "source": [
    "The pixel graph is a SciPy [CSR matrix](https://docs.scipy.org/doc/scipy/reference/generated/scipy.sparse.csr_matrix.html) in which entry $(i, j)$ is 0 if pixels $i$ and $j$ are not connected, and otherwise is equal to the distance between pixels $i$ and $j$ in the skeleton. This will normally be 1 between adjacent pixels and $\\sqrt{2}$ between diagonally adjacent pixels, but in this can be scaled by a `spacing=` keyword argument that sets the scale (and this scale can be different for each image axis). In our case, we know the spacing between pixels, so we can measure our network in physical units instead of pixels:"
   ]
  },
  {
   "cell_type": "code",
   "execution_count": null,
   "metadata": {},
   "outputs": [],
   "source": [
    "pixel_graph0, coordinates0, degrees0 = \\\n",
    "                skeleton_to_csgraph(\n",
    "                        skeleton0,\n",
    "                        spacing=spacing_nm\n",
    "                )"
   ]
  },
  {
   "cell_type": "code",
   "execution_count": null,
   "metadata": {},
   "outputs": [],
   "source": [
    "from skan import _testdata\n",
    "g0, c0, _ = skeleton_to_csgraph(_testdata.skeleton0)\n",
    "g1, c1, _ = skeleton_to_csgraph(_testdata.skeleton1)\n",
    "fig, axes = plt.subplots(1, 2)\n",
    "\n",
    "draw.overlay_skeleton_networkx(g0, c0, image=_testdata.skeleton0,\n",
    "                               axis=axes[0])\n",
    "draw.overlay_skeleton_networkx(g1, c1, image=_testdata.skeleton1,\n",
    "                               axis=axes[1]);"
   ]
  },
  {
   "cell_type": "code",
   "execution_count": null,
   "metadata": {},
   "outputs": [],
   "source": [
    "draw.overlay_euclidean_skeleton_2d(image0, branch_data,\n",
    "                                   skeleton_colormap='magma',\n",
    "                                   skeleton_color_source='branch-distance');"
   ]
  },
  {
   "cell_type": "markdown",
   "metadata": {},
   "source": [
    "### The skeleton class"
   ]
  },
  {
   "cell_type": "code",
   "execution_count": null,
   "metadata": {},
   "outputs": [],
   "source": [
    "from skan import Skeleton, summarize\n",
    "cskel = Skeleton(skeleton0, spacing=spacing_nm,\n",
    "                 source_image=image0)"
   ]
  },
  {
   "cell_type": "code",
   "execution_count": null,
   "metadata": {},
   "outputs": [],
   "source": [
    "from skimage import feature\n",
    "\n",
    "si = feature.shape_index(image0, sigma=5, mode='reflect')\n",
    "\n",
    "plt.imshow(si);"
   ]
  },
  {
   "cell_type": "code",
   "execution_count": null,
   "metadata": {},
   "outputs": [],
   "source": [
    "cskel = Skeleton(skeleton0 * si, spacing=spacing_nm,\n",
    "                 source_image=image0)\n",
    "\n",
    "draw.overlay_skeleton_2d_class(cskel);"
   ]
  },
  {
   "cell_type": "markdown",
   "metadata": {},
   "source": [
    "### The branch data summary"
   ]
  },
  {
   "cell_type": "code",
   "execution_count": null,
   "metadata": {},
   "outputs": [],
   "source": [
    "branch_data = summarize(cskel)\n",
    "branch_data.head()"
   ]
  },
  {
   "cell_type": "code",
   "execution_count": null,
   "metadata": {},
   "outputs": [],
   "source": [
    "branch_data.hist(column='branch-distance', by='branch-type', bins=100);"
   ]
  },
  {
   "cell_type": "markdown",
   "metadata": {},
   "source": [
    "## 2. Other applications"
   ]
  },
  {
   "cell_type": "markdown",
   "metadata": {},
   "source": [
    "---\n",
    "\n",
    "### Neuroscience\n",
    "\n",
    "![](https://dfzljdn9uc3pi.cloudfront.net/2018/4312/1/fig-1-2x.jpg)"
   ]
  },
  {
   "attachments": {},
   "cell_type": "markdown",
   "metadata": {},
   "source": [
    "---\n",
    "\n",
    "### Plant morphology\n",
    "\n",
    "(See the [PlantCV docs](https://plantcv.readthedocs.io/en/stable/morphology_tutorial/)!)\n",
    "\n",
    "![](https://plantcv.readthedocs.io/en/stable/img/tutorial_images/morphology/original_img.jpg)\n",
    "\n",
    "![](https://plantcv.readthedocs.io/en/stable/img/tutorial_images/morphology/cropped_mask_image.jpg)\n",
    "\n",
    "![](https://plantcv.readthedocs.io/en/stable/img/tutorial_images/morphology/pruned_segmented_img_mask_tutorial.jpg)"
   ]
  },
  {
   "cell_type": "markdown",
   "metadata": {},
   "source": [
    "### Remote sensing "
   ]
  },
  {
   "cell_type": "code",
   "execution_count": null,
   "metadata": {},
   "outputs": [],
   "source": [
    "image = io.imread('data/130_Parana_River_Paraguay.jpg')"
   ]
  },
  {
   "cell_type": "code",
   "execution_count": null,
   "metadata": {},
   "outputs": [],
   "source": [
    "plt.imshow(image);"
   ]
  },
  {
   "cell_type": "code",
   "execution_count": null,
   "metadata": {},
   "outputs": [],
   "source": [
    "d_from_blue = np.sum(np.abs(image - [0, 0, 255]), axis=-1)\n",
    "plt.imshow(d_from_blue < 250);"
   ]
  },
  {
   "cell_type": "code",
   "execution_count": null,
   "metadata": {},
   "outputs": [],
   "source": [
    "from skimage import morphology\n",
    "\n",
    "river = morphology.remove_small_objects(d_from_blue < 250, 1000)\n",
    "river_clean = morphology.binary_closing(river)\n",
    "plt.imshow(river_clean);"
   ]
  },
  {
   "cell_type": "code",
   "execution_count": null,
   "metadata": {},
   "outputs": [],
   "source": [
    "midpoint = morphology.skeletonize(river_clean)\n",
    "\n",
    "river_skeleton = Skeleton(midpoint, source_image=image)\n",
    "summarize(river_skeleton).head()"
   ]
  },
  {
   "cell_type": "code",
   "execution_count": null,
   "metadata": {},
   "outputs": [],
   "source": [
    "draw.overlay_skeleton_2d_class(river_skeleton, image_cmap=None,\n",
    "                               skeleton_color_source='path_lengths',\n",
    "                               skeleton_colormap='magma');\n"
   ]
  },
  {
   "cell_type": "markdown",
   "metadata": {},
   "source": [
    "## More info:\n",
    "\n",
    "- our [PeerJ paper](https://peerj.com/articles/4312/) (and [please cite it](https://ilovesymposia.com/2019/05/02/why-you-should-cite-open-source-tools/) if you publish using skan!),\n",
    "- the [\"Complete analysis with skan\"](complete_analysis.html) page, and\n",
    "- the [skan-scripts](https://github.com/jni/skan-scripts) repository."
   ]
  }
 ],
 "metadata": {
  "kernelspec": {
   "display_name": "Python 3",
   "language": "python",
   "name": "python3"
  },
  "language_info": {
   "codemirror_mode": {
    "name": "ipython",
    "version": 3
   },
   "file_extension": ".py",
   "mimetype": "text/x-python",
   "name": "python",
   "nbconvert_exporter": "python",
   "pygments_lexer": "ipython3",
   "version": "3.6.8"
  },
  "pycharm": {
   "stem_cell": {
    "cell_type": "raw",
    "metadata": {
     "collapsed": false
    },
    "source": []
   }
  }
 },
 "nbformat": 4,
 "nbformat_minor": 2
}
